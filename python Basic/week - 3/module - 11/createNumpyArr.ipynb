{
 "cells": [
  {
   "cell_type": "code",
   "execution_count": 1,
   "id": "80d9c3aa",
   "metadata": {},
   "outputs": [],
   "source": [
    "import numpy as np\n"
   ]
  },
  {
   "cell_type": "code",
   "execution_count": 2,
   "id": "fdfef9b2",
   "metadata": {},
   "outputs": [
    {
     "name": "stdout",
     "output_type": "stream",
     "text": [
      "1 (10,)\n"
     ]
    }
   ],
   "source": [
    "\n",
    "oneD = np.array([1,2,3,4,5,6,7,8,9,10])\n",
    "print(oneD.ndim,oneD.shape)"
   ]
  },
  {
   "cell_type": "code",
   "execution_count": null,
   "id": "5f3b0747",
   "metadata": {},
   "outputs": [
    {
     "name": "stdout",
     "output_type": "stream",
     "text": [
      "1 (2, 5)\n"
     ]
    }
   ],
   "source": [
    "twoD = np.array([1,2,3,4,5,6,7,8,9,10]).reshape(2,5)\n",
    "print(twoD.ndim,twoD.shape)"
   ]
  },
  {
   "cell_type": "code",
   "execution_count": 5,
   "id": "2512c717",
   "metadata": {},
   "outputs": [
    {
     "name": "stdout",
     "output_type": "stream",
     "text": [
      "3 (2, 2, 3)\n"
     ]
    }
   ],
   "source": [
    "threeD = np.array([1,2,3,4,5,6,7,8,9,10,11,12]).reshape(2,2,3)\n",
    "print(threeD.ndim,threeD.shape)"
   ]
  },
  {
   "cell_type": "code",
   "execution_count": 6,
   "id": "bd315028",
   "metadata": {},
   "outputs": [
    {
     "name": "stdout",
     "output_type": "stream",
     "text": [
      "[[[ 1  2  3]\n",
      "  [ 4  5  6]]\n",
      "\n",
      " [[ 7  8  9]\n",
      "  [10 11 12]]]\n"
     ]
    }
   ],
   "source": [
    "print(threeD)"
   ]
  },
  {
   "cell_type": "code",
   "execution_count": 8,
   "id": "2464c246",
   "metadata": {},
   "outputs": [
    {
     "data": {
      "text/plain": [
       "array([[0., 0., 0.],\n",
       "       [0., 0., 0.],\n",
       "       [0., 0., 0.]])"
      ]
     },
     "execution_count": 8,
     "metadata": {},
     "output_type": "execute_result"
    }
   ],
   "source": [
    "zeros = np.zeros((3,3))\n",
    "zeros"
   ]
  },
  {
   "cell_type": "code",
   "execution_count": 9,
   "id": "53c2cd71",
   "metadata": {},
   "outputs": [
    {
     "data": {
      "text/plain": [
       "array([[1., 1., 1., 1., 1.],\n",
       "       [1., 1., 1., 1., 1.]])"
      ]
     },
     "execution_count": 9,
     "metadata": {},
     "output_type": "execute_result"
    }
   ],
   "source": [
    "ones = np.ones((2,5))\n",
    "ones"
   ]
  },
  {
   "cell_type": "code",
   "execution_count": 13,
   "id": "4f4f59f9",
   "metadata": {},
   "outputs": [
    {
     "data": {
      "text/plain": [
       "array([[7, 7, 7],\n",
       "       [7, 7, 7],\n",
       "       [7, 7, 7]])"
      ]
     },
     "execution_count": 13,
     "metadata": {},
     "output_type": "execute_result"
    }
   ],
   "source": [
    "filled = np.full((3,3),7)\n",
    "filled"
   ]
  },
  {
   "cell_type": "markdown",
   "id": "f393bdcc",
   "metadata": {},
   "source": [
    "###  Create an array of even numbers between 10 and 50 using arange. "
   ]
  },
  {
   "cell_type": "code",
   "execution_count": 23,
   "id": "77195ac0",
   "metadata": {},
   "outputs": [
    {
     "name": "stdout",
     "output_type": "stream",
     "text": [
      "<class 'numpy.ndarray'>\n"
     ]
    }
   ],
   "source": [
    "a = np.arange(10,51)\n",
    "print(type(a))"
   ]
  },
  {
   "cell_type": "code",
   "execution_count": 24,
   "id": "a7b6a059",
   "metadata": {},
   "outputs": [
    {
     "data": {
      "text/plain": [
       "array([10, 12, 14, 16, 18, 20, 22, 24, 26, 28, 30, 32, 34, 36, 38, 40, 42,\n",
       "       44, 46, 48, 50])"
      ]
     },
     "execution_count": 24,
     "metadata": {},
     "output_type": "execute_result"
    }
   ],
   "source": [
    "b = a[a%2 == 0]\n",
    "b"
   ]
  },
  {
   "cell_type": "markdown",
   "id": "57473b38",
   "metadata": {},
   "source": [
    "#  Create a 4×4 matrix from 0–15. Then , extract: \n",
    "● the first row \n",
    "● the last column \n",
    "● a 2×2 subarray from the center"
   ]
  },
  {
   "cell_type": "code",
   "execution_count": 33,
   "id": "565b6635",
   "metadata": {},
   "outputs": [
    {
     "data": {
      "text/plain": [
       "array([[ 0,  1,  2,  3],\n",
       "       [ 4,  5,  6,  7],\n",
       "       [ 8,  9, 10, 11],\n",
       "       [12, 13, 14, 15]])"
      ]
     },
     "execution_count": 33,
     "metadata": {},
     "output_type": "execute_result"
    }
   ],
   "source": [
    "mat = np.arange(0,16).reshape(4,4)\n",
    "mat"
   ]
  },
  {
   "cell_type": "code",
   "execution_count": 34,
   "id": "b2475b3d",
   "metadata": {},
   "outputs": [
    {
     "data": {
      "text/plain": [
       "array([[0, 1, 2, 3]])"
      ]
     },
     "execution_count": 34,
     "metadata": {},
     "output_type": "execute_result"
    }
   ],
   "source": [
    "first_row = mat[0:1,::]\n",
    "first_row"
   ]
  },
  {
   "cell_type": "code",
   "execution_count": 41,
   "id": "08446c0f",
   "metadata": {},
   "outputs": [
    {
     "data": {
      "text/plain": [
       "array([[ 3],\n",
       "       [ 7],\n",
       "       [11],\n",
       "       [15]])"
      ]
     },
     "execution_count": 41,
     "metadata": {},
     "output_type": "execute_result"
    }
   ],
   "source": [
    "last_col = mat[::,3:4]\n",
    "last_col"
   ]
  },
  {
   "cell_type": "code",
   "execution_count": 42,
   "id": "f71403ed",
   "metadata": {},
   "outputs": [
    {
     "data": {
      "text/plain": [
       "array([[ 5,  6],\n",
       "       [ 9, 10]])"
      ]
     },
     "execution_count": 42,
     "metadata": {},
     "output_type": "execute_result"
    }
   ],
   "source": [
    "sub_array_from_center = mat[1:3,1:3]\n",
    "sub_array_from_center"
   ]
  },
  {
   "cell_type": "markdown",
   "id": "c87dcf2b",
   "metadata": {},
   "source": [
    "#. Add a 1D array [1,2,3] to each row of a 3×3 matrix."
   ]
  },
  {
   "cell_type": "code",
   "execution_count": 43,
   "id": "f3e55cf4",
   "metadata": {},
   "outputs": [
    {
     "data": {
      "text/plain": [
       "array([[1, 2, 3],\n",
       "       [4, 5, 6],\n",
       "       [7, 8, 9]])"
      ]
     },
     "execution_count": 43,
     "metadata": {},
     "output_type": "execute_result"
    }
   ],
   "source": [
    "arr = np.arange(1,10).reshape(3,3)\n",
    "arr"
   ]
  },
  {
   "cell_type": "code",
   "execution_count": 46,
   "id": "a0510802",
   "metadata": {},
   "outputs": [
    {
     "data": {
      "text/plain": [
       "array([[ 2,  4,  6],\n",
       "       [ 5,  7,  9],\n",
       "       [ 8, 10, 12]])"
      ]
     },
     "execution_count": 46,
     "metadata": {},
     "output_type": "execute_result"
    }
   ],
   "source": [
    "a = [1,2,3]\n",
    "add = np.add(arr,a)\n",
    "add"
   ]
  },
  {
   "cell_type": "markdown",
   "id": "5877e3cf",
   "metadata": {},
   "source": [
    "#Given two arrays A and B, compute: \n",
    "● (A + B) / 2 \n",
    "● A ** 2 + B**2"
   ]
  },
  {
   "cell_type": "code",
   "execution_count": 51,
   "id": "05089a54",
   "metadata": {},
   "outputs": [
    {
     "data": {
      "text/plain": [
       "array([1., 2., 3., 4., 5., 6., 7., 8., 9.])"
      ]
     },
     "execution_count": 51,
     "metadata": {},
     "output_type": "execute_result"
    }
   ],
   "source": [
    "A = np.arange(1,10)\n",
    "B = np.arange(1,10)\n",
    "# x = np.divide(np.add(A,B),2)\n",
    "x = np.add(A,B)/2\n",
    "x"
   ]
  },
  {
   "cell_type": "code",
   "execution_count": 52,
   "id": "a64707d2",
   "metadata": {},
   "outputs": [
    {
     "data": {
      "text/plain": [
       "array([  2,   8,  18,  32,  50,  72,  98, 128, 162])"
      ]
     },
     "execution_count": 52,
     "metadata": {},
     "output_type": "execute_result"
    }
   ],
   "source": [
    "res = A**2 + B**2\n",
    "res"
   ]
  },
  {
   "cell_type": "code",
   "execution_count": null,
   "id": "9ea14824",
   "metadata": {},
   "outputs": [],
   "source": []
  }
 ],
 "metadata": {
  "kernelspec": {
   "display_name": "Python 3",
   "language": "python",
   "name": "python3"
  },
  "language_info": {
   "codemirror_mode": {
    "name": "ipython",
    "version": 3
   },
   "file_extension": ".py",
   "mimetype": "text/x-python",
   "name": "python",
   "nbconvert_exporter": "python",
   "pygments_lexer": "ipython3",
   "version": "3.13.3"
  }
 },
 "nbformat": 4,
 "nbformat_minor": 5
}
