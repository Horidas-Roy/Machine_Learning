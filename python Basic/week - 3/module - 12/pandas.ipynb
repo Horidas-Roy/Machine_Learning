{
 "cells": [
  {
   "cell_type": "code",
   "execution_count": 14,
   "id": "3bca1427",
   "metadata": {},
   "outputs": [
    {
     "name": "stdout",
     "output_type": "stream",
     "text": [
      "   StudentID          FullName  Data Structure Marks  Algorithm Marks  \\\n",
      "0     PH1001       Alif Rahman                  85.0             85.0   \n",
      "1     PH1002     Fatima Akhter                  92.0             92.0   \n",
      "2     PH1003     Imran Hossain                  88.0             88.0   \n",
      "3     PH1004  Jannatul Ferdous                  78.0             78.0   \n",
      "4     PH1005       Kamal Uddin                   NaN              NaN   \n",
      "5     PH1006       Laila Begum                  75.0             75.0   \n",
      "6     PH1007    Mahmudul Hasan                  80.0             80.0   \n",
      "7     PH1008       Nadia Islam                  81.0             81.0   \n",
      "8     PH1009        Omar Faruq                  72.0             72.0   \n",
      "9     PH1010      Priya Sharma                  89.0             89.0   \n",
      "10    PH1011      Rahim Sheikh                   NaN              NaN   \n",
      "11    PH1012   Sadia Chowdhury                  85.0             85.0   \n",
      "12    PH1013      Tanvir Ahmed                  75.0             75.0   \n",
      "13    PH1014        Urmi Akter                   NaN              NaN   \n",
      "14    PH1015      Wahiduzzaman                  86.0             86.0   \n",
      "15    PH1016      Ziaur Rahman                  94.0             94.0   \n",
      "16    PH1017       Afsana Mimi                  90.0             90.0   \n",
      "17    PH1018       Babul Ahmed                  88.0             88.0   \n",
      "18    PH1019      Faria Rahman                   NaN              NaN   \n",
      "19    PH1020        Nasir Khan                  86.0             86.0   \n",
      "\n",
      "    Python Marks CompletionStatus EnrollmentDate Instructor    Location  \n",
      "0           88.0        Completed     2024-01-15  Mr. Karim       Dhaka  \n",
      "1            NaN      In Progress     2024-01-20  Ms. Salma  Chattogram  \n",
      "2           85.0        Completed     2024-02-10  Mr. Karim       Dhaka  \n",
      "3           82.0        Completed     2024-02-12  Ms. Salma      Sylhet  \n",
      "4           95.0      In Progress     2024-03-05  Mr. Karim  Chattogram  \n",
      "5           78.0        Completed     2024-03-08  Ms. Salma    Rajshahi  \n",
      "6            NaN      In Progress     2024-04-01  Mr. Karim       Dhaka  \n",
      "7           85.0        Completed     2024-04-22  Ms. Salma  Chattogram  \n",
      "8           76.0        Completed     2024-05-16  Mr. David       Dhaka  \n",
      "9           88.0        Completed     2024-05-20  Ms. Salma      Sylhet  \n",
      "10          91.0      In Progress     2024-06-11  Mr. Karim      Khulna  \n",
      "11          87.0        Completed     2024-06-14  Ms. Salma  Chattogram  \n",
      "12          79.0        Completed     2024-07-02  Mr. David       Dhaka  \n",
      "13           NaN      Not Started     2024-07-09  Ms. Salma    Rajshahi  \n",
      "14          84.0        Completed     2024-08-18  Mr. Karim       Dhaka  \n",
      "15           NaN      In Progress     2024-08-21  Ms. Salma  Chattogram  \n",
      "16          93.0        Completed     2025-09-01  Mr. Karim       Dhaka  \n",
      "17          85.0        Completed     2025-09-05  Ms. Salma      Sylhet  \n",
      "18           NaN      Not Started     2025-09-15  Mr. David  Chattogram  \n",
      "19          89.0        Completed     2025-10-02  Ms. Salma       Dhaka  \n"
     ]
    }
   ],
   "source": [
    "import pandas as pd\n",
    "\n",
    "df = pd.read_csv(\"student_data1.csv\")\n",
    "print(df)"
   ]
  },
  {
   "cell_type": "code",
   "execution_count": 6,
   "id": "8c5b7e47-130a-442f-bab1-f3b6464f589c",
   "metadata": {},
   "outputs": [
    {
     "name": "stdout",
     "output_type": "stream",
     "text": [
      "<class 'pandas.core.frame.DataFrame'>\n"
     ]
    }
   ],
   "source": [
    "print(type(df))"
   ]
  },
  {
   "cell_type": "code",
   "execution_count": null,
   "id": "98b6c837-d21e-4c92-8ed1-ec8639524e72",
   "metadata": {},
   "outputs": [],
   "source": [
    "student_id = df['StudentID']\n",
    "# print(student_id)\n",
    "print(type(student_id))"
   ]
  },
  {
   "cell_type": "markdown",
   "id": "d259a1f6-9bce-45b1-8da3-46e96cc28b33",
   "metadata": {},
   "source": [
    "### Load different type file"
   ]
  },
  {
   "cell_type": "code",
   "execution_count": 15,
   "id": "647fb71f-3e77-4252-9c8a-812e8c779c8d",
   "metadata": {},
   "outputs": [],
   "source": [
    "# csv\n",
    "csv_data = pd.read_csv(\"student_data1.csv\")"
   ]
  },
  {
   "cell_type": "code",
   "execution_count": 16,
   "id": "086c878e-b4fa-4754-872a-d26a9945a1c2",
   "metadata": {},
   "outputs": [
    {
     "name": "stdout",
     "output_type": "stream",
     "text": [
      "<class 'pandas.core.frame.DataFrame'>\n"
     ]
    }
   ],
   "source": [
    "print(type(csv_data))"
   ]
  },
  {
   "cell_type": "code",
   "execution_count": null,
   "id": "5de69d31-224f-499c-a45f-982fc2444f9f",
   "metadata": {},
   "outputs": [],
   "source": [
    "#excel data\n",
    "excel_data = pd."
   ]
  }
 ],
 "metadata": {
  "kernelspec": {
   "display_name": "Python (Global TF)",
   "language": "python",
   "name": "global-tf"
  },
  "language_info": {
   "codemirror_mode": {
    "name": "ipython",
    "version": 3
   },
   "file_extension": ".py",
   "mimetype": "text/x-python",
   "name": "python",
   "nbconvert_exporter": "python",
   "pygments_lexer": "ipython3",
   "version": "3.13.3"
  },
  "widgets": {
   "application/vnd.jupyter.widget-state+json": {
    "state": {},
    "version_major": 2,
    "version_minor": 0
   }
  }
 },
 "nbformat": 4,
 "nbformat_minor": 5
}
