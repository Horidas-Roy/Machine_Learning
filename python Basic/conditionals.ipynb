{
 "cells": [
  {
   "cell_type": "code",
   "execution_count": 2,
   "id": "256cc3b6",
   "metadata": {},
   "outputs": [
    {
     "name": "stdout",
     "output_type": "stream",
     "text": [
      "Don't need Umbrella\n"
     ]
    }
   ],
   "source": [
    "raining = False\n",
    "if raining:\n",
    "    print(\"Don't go without Umbrella\")\n",
    "else:\n",
    "    print(\"Don't need Umbrella\")"
   ]
  },
  {
   "cell_type": "code",
   "execution_count": 3,
   "id": "b922a5bf",
   "metadata": {},
   "outputs": [
    {
     "name": "stdout",
     "output_type": "stream",
     "text": [
      "0\n"
     ]
    }
   ],
   "source": [
    "s = 0\n",
    "for i in range(1,5):\n",
    "    if i%2 == 0:\n",
    "        s += 1\n",
    "    else:\n",
    "        s -= 1\n",
    "    \n",
    "print(s)"
   ]
  },
  {
   "cell_type": "code",
   "execution_count": 1,
   "id": "cb2f0ea1",
   "metadata": {},
   "outputs": [
    {
     "name": "stdout",
     "output_type": "stream",
     "text": [
      "['d', 'b']\n"
     ]
    }
   ],
   "source": [
    "letters = ['a','b','c','d','e']\n",
    "print(letters[1:4][::-2])"
   ]
  }
 ],
 "metadata": {
  "kernelspec": {
   "display_name": "Python 3",
   "language": "python",
   "name": "python3"
  },
  "language_info": {
   "codemirror_mode": {
    "name": "ipython",
    "version": 3
   },
   "file_extension": ".py",
   "mimetype": "text/x-python",
   "name": "python",
   "nbconvert_exporter": "python",
   "pygments_lexer": "ipython3",
   "version": "3.13.3"
  }
 },
 "nbformat": 4,
 "nbformat_minor": 5
}
